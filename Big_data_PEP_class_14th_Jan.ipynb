{
  "nbformat": 4,
  "nbformat_minor": 0,
  "metadata": {
    "colab": {
      "provenance": []
    },
    "kernelspec": {
      "name": "python3",
      "display_name": "Python 3"
    },
    "language_info": {
      "name": "python"
    }
  },
  "cells": [
    {
      "cell_type": "code",
      "execution_count": 7,
      "metadata": {
        "id": "lRhHKSF_RqnZ",
        "outputId": "a0d5ceec-3602-4084-dae0-009011f9e506",
        "colab": {
          "base_uri": "https://localhost:8080/"
        }
      },
      "outputs": [
        {
          "output_type": "stream",
          "name": "stdout",
          "text": [
            "Sample of the Dataset:\n",
            "              X              Y  OBJECTID  Shape_Leng  Shape_Area  \\\n",
            "0  9.352230e+05  190535.052575         1    0.116357    0.000782   \n",
            "1  1.032516e+06  167292.493195         2    0.433470    0.004866   \n",
            "2  1.025883e+06  254779.600631         3    0.084341    0.000314   \n",
            "3  9.906188e+05  203105.532318         4    0.043567    0.000112   \n",
            "4  9.314680e+05  139837.478389         5    0.092146    0.000498   \n",
            "\n",
            "                      zone  LocationID        borough   Latitude  Longitude  \n",
            "0           Newark Airport           1            EWR  35.475594 -83.290731  \n",
            "1              Jamaica Bay           2         Queens  35.742300 -90.562330  \n",
            "2  Allerton/Pelham Gardens           3          Bronx  33.293157 -86.767961  \n",
            "3            Alphabet City           4      Manhattan  40.724545 -73.979050  \n",
            "4            Arden Heights           5  Staten Island  39.809279 -75.486587  \n",
            "Number of Rows: 263\n",
            "Number of Columns: 10\n",
            "Memory Usage: 0.05 MB\n",
            "X             float64\n",
            "Y             float64\n",
            "OBJECTID        int64\n",
            "Shape_Leng    float64\n",
            "Shape_Area    float64\n",
            "zone           object\n",
            "LocationID      int64\n",
            "borough        object\n",
            "Latitude      float64\n",
            "Longitude     float64\n",
            "dtype: object\n",
            "<bound method DataFrame.info of                 X              Y  OBJECTID  Shape_Leng  Shape_Area  \\\n",
            "0    9.352230e+05  190535.052575         1    0.116357    0.000782   \n",
            "1    1.032516e+06  167292.493195         2    0.433470    0.004866   \n",
            "2    1.025883e+06  254779.600631         3    0.084341    0.000314   \n",
            "3    9.906188e+05  203105.532318         4    0.043567    0.000112   \n",
            "4    9.314680e+05  139837.478389         5    0.092146    0.000498   \n",
            "..            ...            ...       ...         ...         ...   \n",
            "258  1.023962e+06  266878.034018       259    0.126750    0.000395   \n",
            "259  1.010930e+06  211369.883417       260    0.133514    0.000422   \n",
            "260  9.806682e+05  197575.689861       261    0.027120    0.000034   \n",
            "261  9.992531e+05  222193.818758       262    0.049064    0.000122   \n",
            "262  9.977632e+05  222907.634704       263    0.037017    0.000066   \n",
            "\n",
            "                        zone  LocationID        borough   Latitude   Longitude  \n",
            "0             Newark Airport           1            EWR  35.475594  -83.290731  \n",
            "1                Jamaica Bay           2         Queens  35.742300  -90.562330  \n",
            "2    Allerton/Pelham Gardens           3          Bronx  33.293157  -86.767961  \n",
            "3              Alphabet City           4      Manhattan  40.724545  -73.979050  \n",
            "4              Arden Heights           5  Staten Island  39.809279  -75.486587  \n",
            "..                       ...         ...            ...        ...         ...  \n",
            "258       Woodlawn/Wakefield         259          Bronx  42.307797  -96.930286  \n",
            "259                 Woodside         260         Queens  37.429939 -122.253856  \n",
            "260       World Trade Center         261      Manhattan  36.375484  -81.758240  \n",
            "261           Yorkville East         262      Manhattan  43.112850  -75.271000  \n",
            "262           Yorkville West         263      Manhattan  31.759903  -97.102936  \n",
            "\n",
            "[263 rows x 10 columns]>\n"
          ]
        }
      ],
      "source": [
        "#import necessary libraries\n",
        "import pandas as pd\n",
        "import numpy as np\n",
        "import matplotlib.pyplot as plt\n",
        "import time\n",
        "\n",
        "#Load the dataset into a Pandas Dataframe\n",
        "df = pd.read_csv('taxi_zones.csv')\n",
        "\n",
        "#Display the first few rows of the dataset\n",
        "print(\"Sample of the Dataset:\")\n",
        "print(df.head())\n",
        "\n",
        "#Step-2 : Volume - How large is the data?\n",
        "\n",
        "print(f\"Number of Rows: {df.shape[0]}\")\n",
        "print(f\"Number of Columns: {df.shape[1]}\")\n",
        "print(f\"Memory Usage: {df.memory_usage(deep=True).sum() / (1024**2):.2f} MB\")\n",
        "\n",
        "#Step-3 : Variety\n",
        "print(df.dtypes)\n",
        "print(df.info)\n"
      ]
    },
    {
      "cell_type": "code",
      "source": [
        "#Step-4 : Velocity\n",
        "for i in range(5):                        #Stream 5 batches\n",
        "  sample_data = df.sample(2)              #Stream 5 random rows\n",
        "  print(f\"\\nBatch (i+1):\\n\", sample_data)\n",
        "  time.sleep(2)                           #Wait for 2 seconds to simulate streaming"
      ],
      "metadata": {
        "colab": {
          "base_uri": "https://localhost:8080/"
        },
        "id": "2SVuv7Ygivln",
        "outputId": "f02ee326-b219-4b2f-be73-43f960ae1340"
      },
      "execution_count": null,
      "outputs": [
        {
          "output_type": "stream",
          "name": "stdout",
          "text": [
            "\n",
            "Batch (i+1):\n",
            "                  X              Y  OBJECTID  Shape_Leng  Shape_Area  \\\n",
            "67   984266.581407  211937.944079        68    0.049337    0.000111   \n",
            "216  996215.257198  195492.216142       217    0.055391    0.000115   \n",
            "\n",
            "                   zone  LocationID    borough   Latitude  Longitude  \n",
            "67         East Chelsea          68  Manhattan  42.391760 -71.032830  \n",
            "216  South Williamsburg         217   Brooklyn  28.414451 -81.442849  \n",
            "\n",
            "Batch (i+1):\n",
            "                 X              Y  OBJECTID  Shape_Leng  Shape_Area  \\\n",
            "202  1.057297e+06  179660.443813       203    0.189938    0.000615   \n",
            "92   1.028064e+06  208639.269516        93    0.170998    0.000594   \n",
            "\n",
            "                             zone  LocationID borough   Latitude   Longitude  \n",
            "202                      Rosedale         203  Queens  35.468183 -118.779649  \n",
            "92   Flushing Meadows-Corona Park          93  Queens  39.112510 -100.358750  \n",
            "\n",
            "Batch (i+1):\n",
            "                 X              Y  OBJECTID  Shape_Leng  Shape_Area  \\\n",
            "111  9.985315e+05  204813.312104       112    0.107268    0.000462   \n",
            "174  1.051487e+06  210164.456713       175    0.134898    0.000505   \n",
            "\n",
            "                zone  LocationID   borough   Latitude  Longitude  \n",
            "111       Greenpoint         112  Brooklyn  40.480922 -76.551631  \n",
            "174  Oakland Gardens         175    Queens  40.742772 -73.758831  \n",
            "\n",
            "Batch (i+1):\n",
            "                 X              Y  OBJECTID  Shape_Leng  Shape_Area  \\\n",
            "149  1.000116e+06  150686.818512       150    0.089331    0.000333   \n",
            "243  1.000390e+06  245761.392287       244    0.080569    0.000360   \n",
            "\n",
            "                         zone  LocationID    borough   Latitude  Longitude  \n",
            "149           Manhattan Beach         150   Brooklyn  40.688630 -74.018244  \n",
            "243  Washington Heights South         244  Manhattan  37.329217 -86.364699  \n",
            "\n",
            "Batch (i+1):\n",
            "                 X              Y  OBJECTID  Shape_Leng  Shape_Area  \\\n",
            "156  1.011434e+06  203078.823074       157    0.131300    0.000354   \n",
            "37   1.057584e+06  191973.412778        38    0.083218    0.000327   \n",
            "\n",
            "                zone  LocationID borough   Latitude  Longitude  \n",
            "156          Maspeth         157  Queens  40.722848 -73.908413  \n",
            "37   Cambria Heights          38  Queens  40.694550 -73.738470  \n"
          ]
        }
      ]
    },
    {
      "cell_type": "code",
      "source": [
        "#Install PySpark in Google Colab\n",
        "!pip install pyspark"
      ],
      "metadata": {
        "colab": {
          "base_uri": "https://localhost:8080/"
        },
        "id": "Ts3YEekJmYnP",
        "outputId": "839d307b-abdd-435a-e3c1-f5a5c37fd507"
      },
      "execution_count": null,
      "outputs": [
        {
          "output_type": "stream",
          "name": "stdout",
          "text": [
            "Requirement already satisfied: pyspark in /usr/local/lib/python3.10/dist-packages (3.5.3)\n",
            "Requirement already satisfied: py4j==0.10.9.7 in /usr/local/lib/python3.10/dist-packages (from pyspark) (0.10.9.7)\n"
          ]
        }
      ]
    },
    {
      "cell_type": "code",
      "source": [
        "#Import PySpark session\n",
        "from pyspark.sql import SparkSession\n",
        "\n",
        "#Create a SparkSession\n",
        "spark = SparkSession.builder.appName(\"Big Data Tools Overview\").getOrCreate()\n",
        "\n",
        "#Create a simple DataFrame\n",
        "data = [(\"Alice\", 25), (\"Bob\", 30), (\"Charlie\", 35)]\n",
        "columns = [\"Name\", \"Age\"]\n",
        "df = spark.createDataFrame(data, schema=columns)\n",
        "\n",
        "#Show the DataFrame\n",
        "df.show()"
      ],
      "metadata": {
        "colab": {
          "base_uri": "https://localhost:8080/"
        },
        "id": "0Np_6tEem6mf",
        "outputId": "a6f722ba-92d4-429c-8064-f55434191d6b"
      },
      "execution_count": 2,
      "outputs": [
        {
          "output_type": "stream",
          "name": "stdout",
          "text": [
            "+-------+---+\n",
            "|   Name|Age|\n",
            "+-------+---+\n",
            "|  Alice| 25|\n",
            "|    Bob| 30|\n",
            "|Charlie| 35|\n",
            "+-------+---+\n",
            "\n"
          ]
        }
      ]
    },
    {
      "cell_type": "code",
      "source": [
        "from collections import Counter\n",
        "\n",
        "#sample dataset\n",
        "data = [\"Big Data ecosystem\", \"Data architecture\", \"Big Data storage\"]\n",
        "\n",
        "#Map phase\n",
        "mapped =[]\n",
        "for line in data:\n",
        "  words = line.split()\n",
        "  mapped.extend([(word,1) for word in words])\n",
        "\n",
        "#Reduce phase\n",
        "reduced = Counter()\n",
        "for key, value in mapped:\n",
        "  reduced[key] += value\n",
        "\n",
        "for word, count in reduced.items():\n",
        "  print(f\"{word}: {count}\")"
      ],
      "metadata": {
        "colab": {
          "base_uri": "https://localhost:8080/"
        },
        "id": "FkAH6HfobV2X",
        "outputId": "f997ef2f-6934-4460-c203-5ba1fd26150f"
      },
      "execution_count": 9,
      "outputs": [
        {
          "output_type": "stream",
          "name": "stdout",
          "text": [
            "Big: 2\n",
            "Data: 3\n",
            "ecosystem: 1\n",
            "architecture: 1\n",
            "storage: 1\n"
          ]
        }
      ]
    }
  ]
}